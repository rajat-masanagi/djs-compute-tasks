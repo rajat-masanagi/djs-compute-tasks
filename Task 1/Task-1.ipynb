{
 "cells": [
  {
   "cell_type": "code",
   "execution_count": 1,
   "metadata": {},
   "outputs": [
    {
     "name": "stdout",
     "output_type": "stream",
     "text": [
      "     *\n",
      "    * *\n",
      "   *   *\n",
      "  *     *\n",
      " *       *\n",
      "* * * * * * \n"
     ]
    }
   ],
   "source": [
    "for i in range(0,6):\n",
    "    if(i>=0 and i<5):\n",
    "        for j in range(0,5-i):\n",
    "            print(\" \",end=\"\")\n",
    "        print(\"*\",end=\"\")\n",
    "    if(i>=1 and i<5):\n",
    "        for k in range(0,2*i-1):\n",
    "            print(\" \",end=\"\")\n",
    "        print(\"*\",end=\"\")\n",
    "    if(i==5):\n",
    "        for l in range(0,6):\n",
    "            print(\"*\",end=\" \")\n",
    "    print(\"\\n\",end=\"\")"
   ]
  },
  {
   "cell_type": "code",
   "execution_count": 2,
   "metadata": {},
   "outputs": [
    {
     "name": "stdout",
     "output_type": "stream",
     "text": [
      "\n",
      "A \n",
      "2 3 \n",
      "D E F \n",
      "7 8 9 10 \n",
      "K L M N O \n"
     ]
    }
   ],
   "source": [
    "count=1\n",
    "for i in range(0,6):\n",
    "    for j in range(0,i):\n",
    "        if(i%2!=0):\n",
    "            print(chr(count+64),end=\" \")\n",
    "        else:\n",
    "            print(count,end=\" \")\n",
    "        count=count+1\n",
    "    print(\"\\n\",end=\"\")"
   ]
  },
  {
   "cell_type": "code",
   "execution_count": 3,
   "metadata": {},
   "outputs": [
    {
     "name": "stdout",
     "output_type": "stream",
     "text": [
      "First and Last element is same.\n",
      "First and Last element is not same.\n"
     ]
    }
   ],
   "source": [
    "L1=[1,4,621,6,1]\n",
    "L2=[6,156,721,76,1,5]\n",
    "def check(L):\n",
    "    if(L[0]==L[len(L)-1]):\n",
    "        print(\"First and Last element is same.\")\n",
    "    else:\n",
    "        print(\"First and Last element is not same.\")\n",
    "check(L1)\n",
    "check(L2)\n"
   ]
  },
  {
   "cell_type": "code",
   "execution_count": 1,
   "metadata": {},
   "outputs": [
    {
     "name": "stdout",
     "output_type": "stream",
     "text": [
      "word\n"
     ]
    }
   ],
   "source": [
    "w=\"lord\"\n",
    "k=0\n",
    "c='w'\n",
    "def re(w,k,c):\n",
    "    print(w[:k]+c+w[k+1:])\n",
    "re(w,k,c)"
   ]
  },
  {
   "cell_type": "code",
   "execution_count": 44,
   "metadata": {},
   "outputs": [
    {
     "name": "stdout",
     "output_type": "stream",
     "text": [
      "['dasf-fsa@das1.com', 'fsafas@fas.com', 'fas@jin.com', 'rasfasf@gmail.com']\n"
     ]
    }
   ],
   "source": [
    "def func(s):\n",
    "    flag=0\n",
    "    l=[s.split('@')[0]]\n",
    "    l.append(s.split('@')[1].split('.')[0])\n",
    "    l.append(s.split('@')[1].split('.')[1])\n",
    "    if(not(l[0].isalnum() or ('-' in l[0]) or ('_' in l[0]))):\n",
    "        flag=flag+1\n",
    "    if(not(l[1].isalnum())):\n",
    "        flag=flag+1\n",
    "    if(not(l[2].isalpha() and (len(l[2])<4))):\n",
    "        flag=flag+1\n",
    "    if(flag>0):\n",
    "        return False\n",
    "    else:\n",
    "        return True\n",
    "L=[\"sfa&@gail.com\",\"dasf-fsa@das1.com\",\"fsafas@fas.com\",\"gdhssga13@da-fsa.cpm\",\"dasfdas_41@ds.1pc\",\"fsafs@hom.coom\",\"fas@jin.com\",\"rasfasf@gmail.com\"]\n",
    "p=list(filter((lambda x:func(x)),L))    \n",
    "print(p)\n"
   ]
  },
  {
   "cell_type": "code",
   "execution_count": 6,
   "metadata": {},
   "outputs": [
    {
     "name": "stdout",
     "output_type": "stream",
     "text": [
      "56.666666666666664\n"
     ]
    }
   ],
   "source": [
    "d={\"Am\":[42,61,67],\"Jom\":[52,90,89],\"Lim\":[64,97,15],\"Kim\":[89,99,97],\"Som\":[97,63,81]}\n",
    "l=d[\"Am\"]\n",
    "a=(l[0]+l[1]+l[2])/3\n",
    "print(a)\n"
   ]
  },
  {
   "cell_type": "code",
   "execution_count": 50,
   "metadata": {},
   "outputs": [
    {
     "name": "stdout",
     "output_type": "stream",
     "text": [
      "{'a': 3, 's': 3, 'f': 2, 'j': 2, 'b': 1, 'g': 1}\n"
     ]
    }
   ],
   "source": [
    "a=\"asfjasjfbgsa\"\n",
    "l=list(a)\n",
    "d={}\n",
    "for i in l:\n",
    "    if(i in d):\n",
    "        d[i]=d[i]+1\n",
    "    else:\n",
    "        d.update({i:1})\n",
    "print(d)\n"
   ]
  },
  {
   "cell_type": "code",
   "execution_count": 2,
   "metadata": {},
   "outputs": [
    {
     "name": "stdout",
     "output_type": "stream",
     "text": [
      "* * * * * * *\n",
      "* *       * *\n",
      "*  *     *  *\n",
      "*   *   *   *\n",
      "*    * *    *\n",
      "*     *     *\n",
      "*    * *    *\n",
      "*   *   *   *\n",
      "*  *     *  *\n",
      "* *       * *\n",
      "* * * * * * *\n"
     ]
    }
   ],
   "source": [
    "\n",
    "\n",
    "for i in range(0,11):\n",
    "    if(i==0 or i==10):\n",
    "        for j in range(0,6):\n",
    "            print(\"* \",end=\"\")\n",
    "    print(\"*\",end=\"\")\n",
    "    if(i>=1 and i<=5):\n",
    "        for j in range(0,i):\n",
    "            print(\" \",end=\"\")\n",
    "        print(\"*\",end=\"\")\n",
    "    if(i<5 and i>0):\n",
    "        for k in range(0,9-2*i):\n",
    "            print(\" \",end=\"\")\n",
    "        print(\"*\",end=\"\")\n",
    "    if(i>0 and i<6):\n",
    "        for l in range(0,i):\n",
    "            print(\" \",end=\"\")\n",
    "        print(\"*\",end=\"\")\n",
    "    if(i>5 and i<10):\n",
    "        for m in range(0,10-i):\n",
    "            print(\" \",end=\"\")\n",
    "        print(\"*\",end=\"\")\n",
    "        for n in range(0,2*i-11):\n",
    "            print(\" \",end=\"\")\n",
    "        print(\"*\",end=\"\")\n",
    "        for b in range(0,10-i):\n",
    "            print(\" \",end=\"\")\n",
    "        print(\"*\",end=\"\")\n",
    "\n",
    "    print(\"\\n\",end=\"\")\n"
   ]
  },
  {
   "cell_type": "code",
   "execution_count": null,
   "metadata": {},
   "outputs": [],
   "source": []
  }
 ],
 "metadata": {
  "kernelspec": {
   "display_name": "myenv",
   "language": "python",
   "name": "python3"
  },
  "language_info": {
   "codemirror_mode": {
    "name": "ipython",
    "version": 3
   },
   "file_extension": ".py",
   "mimetype": "text/x-python",
   "name": "python",
   "nbconvert_exporter": "python",
   "pygments_lexer": "ipython3",
   "version": "3.11.0"
  },
  "orig_nbformat": 4
 },
 "nbformat": 4,
 "nbformat_minor": 2
}
