{
  "cells": [
    {
      "cell_type": "markdown",
      "metadata": {
        "id": "aHQLsCXT_yf9"
      },
      "source": [
        "##Q1 Import and explore the data\n",
        "Dataset Link: https://drive.google.com/file/d/1tPHOMKD_ef-j8MuynCn2fSpbrL11-J1l/view?usp=sharing\n"
      ]
    },
    {
      "cell_type": "markdown",
      "metadata": {
        "id": "naklkC17ALnZ"
      },
      "source": [
        "##Q2 Carry out data pre-processing"
      ]
    },
    {
      "cell_type": "markdown",
      "metadata": {
        "id": "qfCEvxCTAWMV"
      },
      "source": [
        "##Q3 Scale the data using Standard Scaler"
      ]
    },
    {
      "cell_type": "markdown",
      "metadata": {
        "id": "9TiEh5yjAvmi"
      },
      "source": [
        "####Q3a According to you, why is scaling important in SVM? What are the different methods for scaling the data available in sklearn.preprocessing?"
      ]
    },
    {
      "cell_type": "code",
      "execution_count": 5,
      "metadata": {
        "id": "IZH32pSW8Ste"
      },
      "outputs": [],
      "source": [
        "import pandas as pd\n",
        "import numpy as np\n",
        "import matplotlib.pyplot as plt\n",
        "import seaborn as sns"
      ]
    },
    {
      "cell_type": "code",
      "execution_count": 6,
      "metadata": {},
      "outputs": [
        {
          "name": "stdout",
          "output_type": "stream",
          "text": [
            "(12528, 9)\n"
          ]
        },
        {
          "data": {
            "text/html": [
              "<div>\n",
              "<style scoped>\n",
              "    .dataframe tbody tr th:only-of-type {\n",
              "        vertical-align: middle;\n",
              "    }\n",
              "\n",
              "    .dataframe tbody tr th {\n",
              "        vertical-align: top;\n",
              "    }\n",
              "\n",
              "    .dataframe thead th {\n",
              "        text-align: right;\n",
              "    }\n",
              "</style>\n",
              "<table border=\"1\" class=\"dataframe\">\n",
              "  <thead>\n",
              "    <tr style=\"text-align: right;\">\n",
              "      <th></th>\n",
              "      <th>Mean of the integrated profile</th>\n",
              "      <th>Standard deviation of the integrated profile</th>\n",
              "      <th>Excess kurtosis of the integrated profile</th>\n",
              "      <th>Skewness of the integrated profile</th>\n",
              "      <th>Mean of the DM-SNR curve</th>\n",
              "      <th>Standard deviation of the DM-SNR curve</th>\n",
              "      <th>Excess kurtosis of the DM-SNR curve</th>\n",
              "      <th>Skewness of the DM-SNR curve</th>\n",
              "      <th>target_class</th>\n",
              "    </tr>\n",
              "  </thead>\n",
              "  <tbody>\n",
              "    <tr>\n",
              "      <th>0</th>\n",
              "      <td>121.156250</td>\n",
              "      <td>48.372971</td>\n",
              "      <td>0.375485</td>\n",
              "      <td>-0.013165</td>\n",
              "      <td>3.168896</td>\n",
              "      <td>18.399367</td>\n",
              "      <td>7.449874</td>\n",
              "      <td>65.159298</td>\n",
              "      <td>0.0</td>\n",
              "    </tr>\n",
              "    <tr>\n",
              "      <th>1</th>\n",
              "      <td>76.968750</td>\n",
              "      <td>36.175557</td>\n",
              "      <td>0.712898</td>\n",
              "      <td>3.388719</td>\n",
              "      <td>2.399666</td>\n",
              "      <td>17.570997</td>\n",
              "      <td>9.414652</td>\n",
              "      <td>102.722975</td>\n",
              "      <td>0.0</td>\n",
              "    </tr>\n",
              "    <tr>\n",
              "      <th>2</th>\n",
              "      <td>130.585938</td>\n",
              "      <td>53.229534</td>\n",
              "      <td>0.133408</td>\n",
              "      <td>-0.297242</td>\n",
              "      <td>2.743311</td>\n",
              "      <td>22.362553</td>\n",
              "      <td>8.508364</td>\n",
              "      <td>74.031324</td>\n",
              "      <td>0.0</td>\n",
              "    </tr>\n",
              "    <tr>\n",
              "      <th>3</th>\n",
              "      <td>156.398438</td>\n",
              "      <td>48.865942</td>\n",
              "      <td>-0.215989</td>\n",
              "      <td>-0.171294</td>\n",
              "      <td>17.471572</td>\n",
              "      <td>NaN</td>\n",
              "      <td>2.958066</td>\n",
              "      <td>7.197842</td>\n",
              "      <td>0.0</td>\n",
              "    </tr>\n",
              "    <tr>\n",
              "      <th>4</th>\n",
              "      <td>84.804688</td>\n",
              "      <td>36.117659</td>\n",
              "      <td>0.825013</td>\n",
              "      <td>3.274125</td>\n",
              "      <td>2.790134</td>\n",
              "      <td>20.618009</td>\n",
              "      <td>8.405008</td>\n",
              "      <td>76.291128</td>\n",
              "      <td>0.0</td>\n",
              "    </tr>\n",
              "  </tbody>\n",
              "</table>\n",
              "</div>"
            ],
            "text/plain": [
              "    Mean of the integrated profile  \\\n",
              "0                       121.156250   \n",
              "1                        76.968750   \n",
              "2                       130.585938   \n",
              "3                       156.398438   \n",
              "4                        84.804688   \n",
              "\n",
              "    Standard deviation of the integrated profile  \\\n",
              "0                                      48.372971   \n",
              "1                                      36.175557   \n",
              "2                                      53.229534   \n",
              "3                                      48.865942   \n",
              "4                                      36.117659   \n",
              "\n",
              "    Excess kurtosis of the integrated profile  \\\n",
              "0                                    0.375485   \n",
              "1                                    0.712898   \n",
              "2                                    0.133408   \n",
              "3                                   -0.215989   \n",
              "4                                    0.825013   \n",
              "\n",
              "    Skewness of the integrated profile   Mean of the DM-SNR curve  \\\n",
              "0                            -0.013165                   3.168896   \n",
              "1                             3.388719                   2.399666   \n",
              "2                            -0.297242                   2.743311   \n",
              "3                            -0.171294                  17.471572   \n",
              "4                             3.274125                   2.790134   \n",
              "\n",
              "    Standard deviation of the DM-SNR curve  \\\n",
              "0                                18.399367   \n",
              "1                                17.570997   \n",
              "2                                22.362553   \n",
              "3                                      NaN   \n",
              "4                                20.618009   \n",
              "\n",
              "    Excess kurtosis of the DM-SNR curve   Skewness of the DM-SNR curve  \\\n",
              "0                              7.449874                      65.159298   \n",
              "1                              9.414652                     102.722975   \n",
              "2                              8.508364                      74.031324   \n",
              "3                              2.958066                       7.197842   \n",
              "4                              8.405008                      76.291128   \n",
              "\n",
              "   target_class  \n",
              "0           0.0  \n",
              "1           0.0  \n",
              "2           0.0  \n",
              "3           0.0  \n",
              "4           0.0  "
            ]
          },
          "execution_count": 6,
          "metadata": {},
          "output_type": "execute_result"
        }
      ],
      "source": [
        "df=pd.read_csv(\"pulsar.txt\")\n",
        "print(df.shape)\n",
        "df.head()"
      ]
    },
    {
      "cell_type": "code",
      "execution_count": 7,
      "metadata": {},
      "outputs": [
        {
          "data": {
            "text/plain": [
              " Mean of the integrated profile                     0\n",
              " Standard deviation of the integrated profile       0\n",
              " Excess kurtosis of the integrated profile       1735\n",
              " Skewness of the integrated profile                 0\n",
              " Mean of the DM-SNR curve                           0\n",
              " Standard deviation of the DM-SNR curve          1178\n",
              " Excess kurtosis of the DM-SNR curve                0\n",
              " Skewness of the DM-SNR curve                     625\n",
              "target_class                                        0\n",
              "dtype: int64"
            ]
          },
          "execution_count": 7,
          "metadata": {},
          "output_type": "execute_result"
        }
      ],
      "source": [
        "df.isnull().sum()"
      ]
    },
    {
      "cell_type": "code",
      "execution_count": 8,
      "metadata": {},
      "outputs": [],
      "source": [
        "df.dropna(inplace=True)"
      ]
    },
    {
      "cell_type": "code",
      "execution_count": 9,
      "metadata": {},
      "outputs": [
        {
          "data": {
            "text/html": [
              "<div>\n",
              "<style scoped>\n",
              "    .dataframe tbody tr th:only-of-type {\n",
              "        vertical-align: middle;\n",
              "    }\n",
              "\n",
              "    .dataframe tbody tr th {\n",
              "        vertical-align: top;\n",
              "    }\n",
              "\n",
              "    .dataframe thead th {\n",
              "        text-align: right;\n",
              "    }\n",
              "</style>\n",
              "<table border=\"1\" class=\"dataframe\">\n",
              "  <thead>\n",
              "    <tr style=\"text-align: right;\">\n",
              "      <th></th>\n",
              "      <th>Mean of the integrated profile</th>\n",
              "      <th>Standard deviation of the integrated profile</th>\n",
              "      <th>Excess kurtosis of the integrated profile</th>\n",
              "      <th>Skewness of the integrated profile</th>\n",
              "      <th>Mean of the DM-SNR curve</th>\n",
              "      <th>Standard deviation of the DM-SNR curve</th>\n",
              "      <th>Excess kurtosis of the DM-SNR curve</th>\n",
              "      <th>Skewness of the DM-SNR curve</th>\n",
              "      <th>target_class</th>\n",
              "    </tr>\n",
              "  </thead>\n",
              "  <tbody>\n",
              "    <tr>\n",
              "      <th>count</th>\n",
              "      <td>9273.000000</td>\n",
              "      <td>9273.000000</td>\n",
              "      <td>9273.000000</td>\n",
              "      <td>9273.000000</td>\n",
              "      <td>9273.000000</td>\n",
              "      <td>9273.000000</td>\n",
              "      <td>9273.000000</td>\n",
              "      <td>9273.000000</td>\n",
              "      <td>9273.000000</td>\n",
              "    </tr>\n",
              "    <tr>\n",
              "      <th>mean</th>\n",
              "      <td>111.133750</td>\n",
              "      <td>46.514053</td>\n",
              "      <td>0.479546</td>\n",
              "      <td>1.790673</td>\n",
              "      <td>12.735359</td>\n",
              "      <td>26.327860</td>\n",
              "      <td>8.327933</td>\n",
              "      <td>105.783345</td>\n",
              "      <td>0.091664</td>\n",
              "    </tr>\n",
              "    <tr>\n",
              "      <th>std</th>\n",
              "      <td>25.686405</td>\n",
              "      <td>6.781320</td>\n",
              "      <td>1.071155</td>\n",
              "      <td>6.286567</td>\n",
              "      <td>29.766782</td>\n",
              "      <td>19.542634</td>\n",
              "      <td>4.549914</td>\n",
              "      <td>108.166669</td>\n",
              "      <td>0.288567</td>\n",
              "    </tr>\n",
              "    <tr>\n",
              "      <th>min</th>\n",
              "      <td>6.187500</td>\n",
              "      <td>24.772042</td>\n",
              "      <td>-1.738021</td>\n",
              "      <td>-1.791886</td>\n",
              "      <td>0.213211</td>\n",
              "      <td>7.370432</td>\n",
              "      <td>-2.636857</td>\n",
              "      <td>-1.976976</td>\n",
              "      <td>0.000000</td>\n",
              "    </tr>\n",
              "    <tr>\n",
              "      <th>25%</th>\n",
              "      <td>100.984375</td>\n",
              "      <td>42.398382</td>\n",
              "      <td>0.024497</td>\n",
              "      <td>-0.188021</td>\n",
              "      <td>1.910535</td>\n",
              "      <td>14.376641</td>\n",
              "      <td>5.788817</td>\n",
              "      <td>34.917943</td>\n",
              "      <td>0.000000</td>\n",
              "    </tr>\n",
              "    <tr>\n",
              "      <th>50%</th>\n",
              "      <td>115.234375</td>\n",
              "      <td>46.895026</td>\n",
              "      <td>0.223858</td>\n",
              "      <td>0.202884</td>\n",
              "      <td>2.797659</td>\n",
              "      <td>18.435186</td>\n",
              "      <td>8.427475</td>\n",
              "      <td>83.151969</td>\n",
              "      <td>0.000000</td>\n",
              "    </tr>\n",
              "    <tr>\n",
              "      <th>75%</th>\n",
              "      <td>127.328125</td>\n",
              "      <td>51.001785</td>\n",
              "      <td>0.472066</td>\n",
              "      <td>0.930710</td>\n",
              "      <td>5.459866</td>\n",
              "      <td>28.387019</td>\n",
              "      <td>10.721934</td>\n",
              "      <td>139.770330</td>\n",
              "      <td>0.000000</td>\n",
              "    </tr>\n",
              "    <tr>\n",
              "      <th>max</th>\n",
              "      <td>189.734375</td>\n",
              "      <td>91.808628</td>\n",
              "      <td>8.069522</td>\n",
              "      <td>68.101622</td>\n",
              "      <td>211.948997</td>\n",
              "      <td>110.642211</td>\n",
              "      <td>34.539844</td>\n",
              "      <td>1191.000837</td>\n",
              "      <td>1.000000</td>\n",
              "    </tr>\n",
              "  </tbody>\n",
              "</table>\n",
              "</div>"
            ],
            "text/plain": [
              "        Mean of the integrated profile  \\\n",
              "count                      9273.000000   \n",
              "mean                        111.133750   \n",
              "std                          25.686405   \n",
              "min                           6.187500   \n",
              "25%                         100.984375   \n",
              "50%                         115.234375   \n",
              "75%                         127.328125   \n",
              "max                         189.734375   \n",
              "\n",
              "        Standard deviation of the integrated profile  \\\n",
              "count                                    9273.000000   \n",
              "mean                                       46.514053   \n",
              "std                                         6.781320   \n",
              "min                                        24.772042   \n",
              "25%                                        42.398382   \n",
              "50%                                        46.895026   \n",
              "75%                                        51.001785   \n",
              "max                                        91.808628   \n",
              "\n",
              "        Excess kurtosis of the integrated profile  \\\n",
              "count                                 9273.000000   \n",
              "mean                                     0.479546   \n",
              "std                                      1.071155   \n",
              "min                                     -1.738021   \n",
              "25%                                      0.024497   \n",
              "50%                                      0.223858   \n",
              "75%                                      0.472066   \n",
              "max                                      8.069522   \n",
              "\n",
              "        Skewness of the integrated profile   Mean of the DM-SNR curve  \\\n",
              "count                          9273.000000                9273.000000   \n",
              "mean                              1.790673                  12.735359   \n",
              "std                               6.286567                  29.766782   \n",
              "min                              -1.791886                   0.213211   \n",
              "25%                              -0.188021                   1.910535   \n",
              "50%                               0.202884                   2.797659   \n",
              "75%                               0.930710                   5.459866   \n",
              "max                              68.101622                 211.948997   \n",
              "\n",
              "        Standard deviation of the DM-SNR curve  \\\n",
              "count                              9273.000000   \n",
              "mean                                 26.327860   \n",
              "std                                  19.542634   \n",
              "min                                   7.370432   \n",
              "25%                                  14.376641   \n",
              "50%                                  18.435186   \n",
              "75%                                  28.387019   \n",
              "max                                 110.642211   \n",
              "\n",
              "        Excess kurtosis of the DM-SNR curve   Skewness of the DM-SNR curve  \\\n",
              "count                           9273.000000                    9273.000000   \n",
              "mean                               8.327933                     105.783345   \n",
              "std                                4.549914                     108.166669   \n",
              "min                               -2.636857                      -1.976976   \n",
              "25%                                5.788817                      34.917943   \n",
              "50%                                8.427475                      83.151969   \n",
              "75%                               10.721934                     139.770330   \n",
              "max                               34.539844                    1191.000837   \n",
              "\n",
              "       target_class  \n",
              "count   9273.000000  \n",
              "mean       0.091664  \n",
              "std        0.288567  \n",
              "min        0.000000  \n",
              "25%        0.000000  \n",
              "50%        0.000000  \n",
              "75%        0.000000  \n",
              "max        1.000000  "
            ]
          },
          "execution_count": 9,
          "metadata": {},
          "output_type": "execute_result"
        }
      ],
      "source": [
        "df.describe()"
      ]
    },
    {
      "cell_type": "markdown",
      "metadata": {
        "id": "ris4X7S3Bg3E"
      },
      "source": [
        "##Q4 Split the data in traina and test set"
      ]
    },
    {
      "cell_type": "code",
      "execution_count": 10,
      "metadata": {
        "id": "6tRph5J18UcR"
      },
      "outputs": [],
      "source": [
        "from sklearn.model_selection import train_test_split\n",
        "y=df['target_class']\n",
        "x=df.iloc[:,:7]\n",
        "x_train, x_test, y_train, y_test= train_test_split(x, y, test_size= 0.2, random_state=2)"
      ]
    },
    {
      "cell_type": "markdown",
      "metadata": {},
      "source": [
        "Scaling the data"
      ]
    },
    {
      "cell_type": "code",
      "execution_count": 11,
      "metadata": {},
      "outputs": [],
      "source": [
        "from sklearn.preprocessing import StandardScaler"
      ]
    },
    {
      "cell_type": "code",
      "execution_count": 12,
      "metadata": {},
      "outputs": [],
      "source": [
        "sc=StandardScaler()\n",
        "xsc_train=sc.fit_transform(x_train)\n",
        "xsc_test=sc.fit_transform(x_test)"
      ]
    },
    {
      "cell_type": "markdown",
      "metadata": {
        "id": "fmrpw-xPAT5i"
      },
      "source": [
        "##Q5 Implement SVM"
      ]
    },
    {
      "cell_type": "markdown",
      "metadata": {
        "id": "hnSv4K9cFBnk"
      },
      "source": [
        "Different types of kernels in SVM:\n",
        "https://www.kaggle.com/discussions/questions-and-answers/326336\n"
      ]
    },
    {
      "cell_type": "markdown",
      "metadata": {
        "id": "QXZCpBvDAZIQ"
      },
      "source": [
        "###Q5a Linear SVM\n",
        "\n",
        "Apply Linear SVM for costs (C) = [0.1, 1, 10, 100, 1000], predict for the test set and check f1 score for each of the costs. State the best cost"
      ]
    },
    {
      "cell_type": "code",
      "execution_count": 13,
      "metadata": {},
      "outputs": [],
      "source": [
        "from sklearn.svm import SVC\n",
        "from sklearn.metrics import f1_score"
      ]
    },
    {
      "cell_type": "markdown",
      "metadata": {},
      "source": [
        "Before Scaling (3m 40.8s)"
      ]
    },
    {
      "cell_type": "code",
      "execution_count": 14,
      "metadata": {},
      "outputs": [
        {
          "name": "stdout",
          "output_type": "stream",
          "text": [
            "Cost:  0.1 \tF1:  0.8990825688073395\n",
            "Cost:  1 \tF1:  0.8936170212765958\n",
            "Cost:  10 \tF1:  0.8936170212765958\n"
          ]
        }
      ],
      "source": [
        "C = [0.1, 1, 10, 100, 1000]\n",
        "f1=[]\n",
        "for i in range(len(C)):\n",
        "    model=SVC(kernel='linear',C=C[i])\n",
        "    model.fit(x_train,y_train)\n",
        "    y_pred=model.predict(x_test)\n",
        "    f1.append(f1_score(y_pred,y_test))\n",
        "    print(\"Cost: \",C[i],\"\\tF1: \",f1[i])"
      ]
    },
    {
      "cell_type": "markdown",
      "metadata": {},
      "source": [
        "After Scaling (13.4s)"
      ]
    },
    {
      "cell_type": "code",
      "execution_count": null,
      "metadata": {
        "id": "XQ_H9e8Z8WRY"
      },
      "outputs": [
        {
          "name": "stdout",
          "output_type": "stream",
          "text": [
            "Cost:  0.1 \tF1:  0.8957055214723926\n",
            "Cost:  1 \tF1:  0.8902439024390243\n",
            "Cost:  10 \tF1:  0.8902439024390243\n",
            "Cost:  100 \tF1:  0.8902439024390243\n",
            "Cost:  1000 \tF1:  0.8902439024390243\n"
          ]
        }
      ],
      "source": [
        "C = [0.1, 1, 10, 100, 1000]\n",
        "f1=[]\n",
        "for i in range(len(C)):\n",
        "    model1=SVC(kernel='linear',C=C[i])\n",
        "    model1.fit(xsc_train,y_train)\n",
        "    y_pred=model1.predict(xsc_test)\n",
        "    f1.append(f1_score(y_pred,y_test))\n",
        "    print(\"Cost: \",C[i],\"\\tF1: \",f1[i])"
      ]
    },
    {
      "cell_type": "markdown",
      "metadata": {
        "id": "ZfPGIeT6EO1e"
      },
      "source": [
        "###Q5b Polynomial Kernel (2.0s)"
      ]
    },
    {
      "cell_type": "markdown",
      "metadata": {
        "id": "3vwpxFdTEOx3"
      },
      "source": [
        "Apply Linear SVM for degrees = [1,2,3,4,5], predict for the test set and check f1 score for each of the degrees. State the best degree."
      ]
    },
    {
      "cell_type": "code",
      "execution_count": null,
      "metadata": {
        "id": "doPCbujkDpaP"
      },
      "outputs": [
        {
          "name": "stdout",
          "output_type": "stream",
          "text": [
            "Degree:  1 \tF1:  0.8957055214723926\n",
            "Degree:  2 \tF1:  0.8653846153846154\n",
            "Degree:  3 \tF1:  0.8847352024922119\n",
            "Degree:  4 \tF1:  0.8544303797468353\n",
            "Degree:  5 \tF1:  0.8589341692789969\n"
          ]
        }
      ],
      "source": [
        "degrees = [1,2,3,4,5]\n",
        "f1=[]\n",
        "for i in range(len(degrees)):\n",
        "    model2=SVC(kernel='poly',degree=degrees[i])\n",
        "    model2.fit(xsc_train,y_train)\n",
        "    y_pred=model2.predict(xsc_test)\n",
        "    f1.append(f1_score(y_pred,y_test))\n",
        "    print(\"Degree: \",degrees[i],\"\\tF1: \",f1[i])"
      ]
    },
    {
      "cell_type": "markdown",
      "metadata": {
        "id": "3RnH4YwDDt8_"
      },
      "source": [
        "###Q5c Sigmoid Kernel  (1.8s)"
      ]
    },
    {
      "cell_type": "markdown",
      "metadata": {
        "id": "0xQpdX-6D5By"
      },
      "source": [
        "Apply Linear SVM for costs (C) = [0.1, 1, 10, 100, 1000], predict for the test set and check f1 score for each of the costs. State the best cost"
      ]
    },
    {
      "cell_type": "code",
      "execution_count": null,
      "metadata": {
        "id": "mtJYyYDRDRkA"
      },
      "outputs": [
        {
          "name": "stdout",
          "output_type": "stream",
          "text": [
            "Cost:  0.1 \tF1:  0.2796352583586626\n",
            "Cost:  1 \tF1:  0.2738095238095238\n",
            "Cost:  10 \tF1:  0.2738095238095238\n",
            "Cost:  100 \tF1:  0.2738095238095238\n",
            "Cost:  1000 \tF1:  0.2738095238095238\n"
          ]
        }
      ],
      "source": [
        "C = [0.1, 1, 10, 100, 1000]\n",
        "f1=[]\n",
        "for i in range(len(C)):\n",
        "    model3=SVC(kernel='sigmoid',C=C[i])\n",
        "    model3.fit(xsc_train,y_train)\n",
        "    y_pred=model3.predict(xsc_test)\n",
        "    f1.append(f1_score(y_pred,y_test))\n",
        "    print(\"Cost: \",C[i],\"\\tF1: \",f1[i])"
      ]
    },
    {
      "cell_type": "markdown",
      "metadata": {
        "id": "xtz9KvY6AcE9"
      },
      "source": [
        "###Q5d RBF Kernel (3.4s)"
      ]
    },
    {
      "cell_type": "markdown",
      "metadata": {
        "id": "S85NYKGkDj0D"
      },
      "source": [
        "Apply Linear SVM for costs (C) = [0.1, 1, 10, 100, 1000], predict for the test set and check f1 score for each of the costs. State the best cost"
      ]
    },
    {
      "cell_type": "code",
      "execution_count": null,
      "metadata": {
        "id": "oeA1eR798Z7f"
      },
      "outputs": [
        {
          "name": "stdout",
          "output_type": "stream",
          "text": [
            "Cost:  0.1 \tF1:  0.8881987577639752\n",
            "Cost:  1 \tF1:  0.9024390243902438\n",
            "Cost:  10 \tF1:  0.8975903614457831\n",
            "Cost:  100 \tF1:  0.8955223880597014\n",
            "Cost:  1000 \tF1:  0.8658536585365854\n"
          ]
        }
      ],
      "source": [
        "C = [0.1, 1, 10, 100, 1000]\n",
        "f1=[]\n",
        "for i in range(len(C)):\n",
        "    model4=SVC(kernel='rbf',C=C[i])\n",
        "    model4.fit(xsc_train,y_train)\n",
        "    y_pred=model4.predict(xsc_test)\n",
        "    f1.append(f1_score(y_pred,y_test))\n",
        "    print(\"Cost: \",C[i],\"\\tF1: \",f1[i])"
      ]
    }
  ],
  "metadata": {
    "colab": {
      "provenance": [],
      "toc_visible": true
    },
    "kernelspec": {
      "display_name": "Python 3",
      "name": "python3"
    },
    "language_info": {
      "codemirror_mode": {
        "name": "ipython",
        "version": 3
      },
      "file_extension": ".py",
      "mimetype": "text/x-python",
      "name": "python",
      "nbconvert_exporter": "python",
      "pygments_lexer": "ipython3",
      "version": "3.11.0"
    }
  },
  "nbformat": 4,
  "nbformat_minor": 0
}
