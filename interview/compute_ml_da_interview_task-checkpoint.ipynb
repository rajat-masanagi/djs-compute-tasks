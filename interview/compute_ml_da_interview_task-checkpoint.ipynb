{
  "nbformat": 4,
  "nbformat_minor": 0,
  "metadata": {
    "colab": {
      "provenance": [],
      "include_colab_link": true
    },
    "kernelspec": {
      "name": "python3",
      "display_name": "Python 3"
    },
    "language_info": {
      "name": "python"
    }
  },
  "cells": [
    {
      "cell_type": "markdown",
      "metadata": {
        "id": "view-in-github",
        "colab_type": "text"
      },
      "source": [
        "<a href=\"https://colab.research.google.com/github/rajat-masanagi/djs-compute-tasks/blob/main/interview_tasks/compute_ml_da_interview_task.ipynb\" target=\"_parent\"><img src=\"https://colab.research.google.com/assets/colab-badge.svg\" alt=\"Open In Colab\"/></a>"
      ]
    },
    {
      "cell_type": "code",
      "execution_count": null,
      "metadata": {
        "id": "VqAzUeRTF9qK"
      },
      "outputs": [],
      "source": [
        "import pandas as pd"
      ]
    },
    {
      "cell_type": "code",
      "source": [
        "# correct the code below\n",
        "# refer pandas documentation for the correct syntax\n",
        "df=pd.read_csv(\"/content/<NAME_OF_DATASET>.csv\")"
      ],
      "metadata": {
        "id": "goOWDlqjGAdP",
        "outputId": "299f5f35-5956-40df-c4ae-cbe2170bb95f",
        "colab": {
          "base_uri": "https://localhost:8080/",
          "height": 210
        }
      },
      "execution_count": 3,
      "outputs": [
        {
          "output_type": "error",
          "ename": "NameError",
          "evalue": "ignored",
          "traceback": [
            "\u001b[0;31m---------------------------------------------------------------------------\u001b[0m",
            "\u001b[0;31mNameError\u001b[0m                                 Traceback (most recent call last)",
            "\u001b[0;32m<ipython-input-3-3b5bae70f600>\u001b[0m in \u001b[0;36m<cell line: 3>\u001b[0;34m()\u001b[0m\n\u001b[1;32m      1\u001b[0m \u001b[0;31m# correct the code below\u001b[0m\u001b[0;34m\u001b[0m\u001b[0;34m\u001b[0m\u001b[0m\n\u001b[1;32m      2\u001b[0m \u001b[0;31m# refer pandas documentation for the correct syntax\u001b[0m\u001b[0;34m\u001b[0m\u001b[0;34m\u001b[0m\u001b[0m\n\u001b[0;32m----> 3\u001b[0;31m \u001b[0mdf\u001b[0m\u001b[0;34m=\u001b[0m\u001b[0mpd\u001b[0m\u001b[0;34m.\u001b[0m\u001b[0mread\u001b[0m\u001b[0;34m-\u001b[0m\u001b[0mcsv\u001b[0m\u001b[0;34m(\u001b[0m\u001b[0;34m\"/content/<NAME_OF_DATASET>.csv\"\u001b[0m\u001b[0;34m)\u001b[0m\u001b[0;34m\u001b[0m\u001b[0;34m\u001b[0m\u001b[0m\n\u001b[0m",
            "\u001b[0;31mNameError\u001b[0m: name 'pd' is not defined"
          ]
        }
      ]
    },
    {
      "cell_type": "code",
      "source": [
        "df.head()\n",
        "#similarly the first 31 rows"
      ],
      "metadata": {
        "colab": {
          "base_uri": "https://localhost:8080/",
          "height": 193
        },
        "id": "G5ex63m0GGCB",
        "outputId": "9a837b46-9fed-40b8-b708-9dd91c78696b"
      },
      "execution_count": 2,
      "outputs": [
        {
          "output_type": "error",
          "ename": "NameError",
          "evalue": "ignored",
          "traceback": [
            "\u001b[0;31m---------------------------------------------------------------------------\u001b[0m",
            "\u001b[0;31mNameError\u001b[0m                                 Traceback (most recent call last)",
            "\u001b[0;32m<ipython-input-2-1efe70897c9c>\u001b[0m in \u001b[0;36m<cell line: 1>\u001b[0;34m()\u001b[0m\n\u001b[0;32m----> 1\u001b[0;31m \u001b[0mdf\u001b[0m\u001b[0;34m.\u001b[0m\u001b[0mhead\u001b[0m\u001b[0;34m(\u001b[0m\u001b[0;34m)\u001b[0m\u001b[0;34m\u001b[0m\u001b[0;34m\u001b[0m\u001b[0m\n\u001b[0m\u001b[1;32m      2\u001b[0m \u001b[0;31m#similarly the first 31 rows\u001b[0m\u001b[0;34m\u001b[0m\u001b[0;34m\u001b[0m\u001b[0m\n",
            "\u001b[0;31mNameError\u001b[0m: name 'df' is not defined"
          ]
        }
      ]
    },
    {
      "cell_type": "code",
      "source": [
        "#Check if the dataset has null values and specify those columns\n",
        "#Enter code below"
      ],
      "metadata": {
        "id": "gARUqNhCOVy1"
      },
      "execution_count": null,
      "outputs": []
    },
    {
      "cell_type": "code",
      "source": [
        "# Drop the entire column if the percentage of null values to the total rows is greater than 10%\n",
        "# If less than 10% then drop the null values directly\n",
        "#Enter code below"
      ],
      "metadata": {
        "id": "nroD7HWzOakj"
      },
      "execution_count": null,
      "outputs": []
    },
    {
      "cell_type": "code",
      "source": [
        "df.info()"
      ],
      "metadata": {
        "colab": {
          "base_uri": "https://localhost:8080/"
        },
        "id": "XzrEUWszHxC6",
        "outputId": "e1c25fbd-5338-4085-cdec-f7ccfd9ef34d"
      },
      "execution_count": null,
      "outputs": [
        {
          "output_type": "stream",
          "name": "stdout",
          "text": [
            "<class 'pandas.core.frame.DataFrame'>\n",
            "Int64Index: 317 entries, 0 to 333\n",
            "Data columns (total 15 columns):\n",
            " #   Column              Non-Null Count  Dtype  \n",
            "---  ------              --------------  -----  \n",
            " 0   Age                 317 non-null    int64  \n",
            " 1   Gender              317 non-null    object \n",
            " 2   Protein1            317 non-null    float64\n",
            " 3   Protein2            317 non-null    float64\n",
            " 4   Protein3            317 non-null    float64\n",
            " 5   Protein4            317 non-null    float64\n",
            " 6   Tumour_Stage        317 non-null    object \n",
            " 7   Histology           317 non-null    object \n",
            " 8   ER status           317 non-null    object \n",
            " 9   PR status           317 non-null    object \n",
            " 10  HER2 status         317 non-null    object \n",
            " 11  Surgery_type        317 non-null    object \n",
            " 12  Date_of_Surgery     317 non-null    object \n",
            " 13  Date_of_Last_Visit  317 non-null    object \n",
            " 14  Patient_Status      317 non-null    object \n",
            "dtypes: float64(4), int64(1), object(10)\n",
            "memory usage: 39.6+ KB\n"
          ]
        }
      ]
    },
    {
      "cell_type": "code",
      "source": [
        "#Find and eliminate duplicate values if any"
      ],
      "metadata": {
        "id": "iiBHdyL31i_h"
      },
      "execution_count": null,
      "outputs": []
    },
    {
      "cell_type": "markdown",
      "source": [
        "Visualizations"
      ],
      "metadata": {
        "id": "NKNkdDLw1dAi"
      }
    },
    {
      "cell_type": "code",
      "source": [
        "#Find the number of patients of each Tumour Stage and visualize it using a pie-chart."
      ],
      "metadata": {
        "id": "jgrAnjbgLh7z"
      },
      "execution_count": null,
      "outputs": []
    },
    {
      "cell_type": "code",
      "source": [
        "df.value_counts(\"Tumour_Stage\")"
      ],
      "metadata": {
        "colab": {
          "base_uri": "https://localhost:8080/"
        },
        "id": "nNQgAL_ZItdp",
        "outputId": "49909233-4b79-485a-edd9-fe668c8d218a"
      },
      "execution_count": null,
      "outputs": [
        {
          "output_type": "execute_result",
          "data": {
            "text/plain": [
              "Tumour_Stage\n",
              "II     180\n",
              "III     77\n",
              "I       60\n",
              "dtype: int64"
            ]
          },
          "metadata": {},
          "execution_count": 26
        }
      ]
    },
    {
      "cell_type": "code",
      "source": [
        "# Make a historgram of counts of people with different Tumor Stages"
      ],
      "metadata": {
        "colab": {
          "base_uri": "https://localhost:8080/",
          "height": 472
        },
        "id": "JdfWaAHnLH9L",
        "outputId": "cd2b4210-1c86-46b7-95dc-35f4c09dfba7"
      },
      "execution_count": null,
      "outputs": [
        {
          "output_type": "display_data",
          "data": {
            "text/plain": [
              "<Figure size 640x480 with 1 Axes>"
            ],
            "image/png": "[encoded data removed]"
          },
          "metadata": {}
        }
      ]
    },
    {
      "cell_type": "code",
      "source": [
        "#Rename the Patient_Status as Target and Give labels Alive = 1 and Dead = 0"
      ],
      "metadata": {
        "id": "_Y9I2Ah-LWuv"
      },
      "execution_count": null,
      "outputs": []
    },
    {
      "cell_type": "code",
      "source": [
        "#Bin the age column\n",
        "# Create a new column 'age_bins' with the Age values binned as [0, 20, 40, 60, 80, 100]\n",
        "https://pandas.pydata.org/docs/reference/api/pandas.cut.html"
      ],
      "metadata": {
        "id": "5coPXjgBRBIS"
      },
      "execution_count": null,
      "outputs": []
    },
    {
      "cell_type": "code",
      "source": [
        "#plot the count of people in each age bin using a histogram"
      ],
      "metadata": {
        "id": "lpFTnepUT0jW"
      },
      "execution_count": null,
      "outputs": []
    },
    {
      "cell_type": "code",
      "source": [
        "# Make a chart showcasing number of male and female patients in the given data, explain why the data has more values of one gender over the other"
      ],
      "metadata": {
        "id": "ypSHnBrEUTBj"
      },
      "execution_count": null,
      "outputs": []
    },
    {
      "cell_type": "code",
      "source": [
        "# diplay counts of pateints with differnent breast cancer types (Histology)"
      ],
      "metadata": {
        "id": "foHGwFctd3h6"
      },
      "execution_count": null,
      "outputs": []
    },
    {
      "cell_type": "code",
      "source": [
        "# Find out the most frequent surgery performed"
      ],
      "metadata": {
        "id": "Gg19H6-DeGZ5"
      },
      "execution_count": null,
      "outputs": []
    },
    {
      "cell_type": "code",
      "source": [
        "# Find out prevalent surgery types for each type of breast cancer"
      ],
      "metadata": {
        "id": "9dujuaz2eMjp"
      },
      "execution_count": null,
      "outputs": []
    },
    {
      "cell_type": "code",
      "source": [
        "# find out the co-realtion between age protien levels and the type of breast cancer (make a heatmap)"
      ],
      "metadata": {
        "id": "B65bt3NsezUi"
      },
      "execution_count": null,
      "outputs": []
    },
    {
      "cell_type": "code",
      "source": [
        "# What was your analysis of the entire dataset from the above colab notebook"
      ],
      "metadata": {
        "id": "Neev99Nbdl9I"
      },
      "execution_count": null,
      "outputs": []
    }
  ]
}